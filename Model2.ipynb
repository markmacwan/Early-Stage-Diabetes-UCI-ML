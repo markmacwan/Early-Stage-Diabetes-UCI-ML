{
 "cells": [
  {
   "cell_type": "code",
   "execution_count": 1,
   "metadata": {},
   "outputs": [],
   "source": [
    "import numpy as np\n",
    "import pandas as pd\n",
    "\n",
    "import matplotlib.pyplot as plt\n",
    "import seaborn as sns\n",
    "\n",
    "%matplotlib inline"
   ]
  },
  {
   "cell_type": "code",
   "execution_count": 2,
   "metadata": {},
   "outputs": [],
   "source": [
    "import warnings\n",
    "warnings.filterwarnings(\"ignore\")"
   ]
  },
  {
   "cell_type": "code",
   "execution_count": 3,
   "metadata": {},
   "outputs": [],
   "source": [
    "df = pd.read_csv('diabetes_data_upload.csv')"
   ]
  },
  {
   "cell_type": "code",
   "execution_count": 4,
   "metadata": {},
   "outputs": [
    {
     "data": {
      "text/plain": [
       "(Positive    320\n",
       " Negative    200\n",
       " Name: class, dtype: int64,\n",
       " Male      328\n",
       " Female    192\n",
       " Name: Gender, dtype: int64)"
      ]
     },
     "execution_count": 4,
     "metadata": {},
     "output_type": "execute_result"
    }
   ],
   "source": [
    "df['Gender'] = df['Gender'].apply(str)\n",
    "df['class'].value_counts(), df['Gender'].value_counts()"
   ]
  },
  {
   "cell_type": "code",
   "execution_count": 5,
   "metadata": {},
   "outputs": [],
   "source": [
    "df['Gender'] = df['Gender'].map({'Male': 1, 'Female': 0})\n",
    "df['Polyuria'] = df['Polyuria'].map({'Yes': 1, 'No': 0})\n",
    "df['Polydipsia'] = df['Polydipsia'].map({'Yes': 1, 'No': 0})\n",
    "df['sudden weight loss'] = df['sudden weight loss'].map({'Yes': 1, 'No': 0})\n",
    "df['weakness'] = df['weakness'].map({'Yes': 1, 'No': 0})\n",
    "df['Polyphagia'] = df['Polyphagia'].map({'Yes': 1, 'No': 0})\n",
    "df['Genital thrush'] = df['Genital thrush'].map({'Yes': 1, 'No': 0})\n",
    "df['visual blurring'] = df['visual blurring'].map({'Yes': 1, 'No': 0})\n",
    "df['Itching'] = df['Itching'].map({'Yes': 1, 'No': 0})\n",
    "df['Irritability'] = df['Irritability'].map({'Yes': 1, 'No': 0})\n",
    "df['delayed healing'] = df['delayed healing'].map({'Yes': 1, 'No': 0})\n",
    "df['partial paresis'] = df['partial paresis'].map({'Yes': 1, 'No': 0})\n",
    "df['muscle stiffness'] = df['muscle stiffness'].map({'Yes': 1, 'No': 0})\n",
    "df['Alopecia'] = df['Alopecia'].map({'Yes': 1, 'No': 0})\n",
    "df['Obesity'] = df['Obesity'].map({'Yes': 1, 'No': 0})\n",
    "df['class'] = df['class'].map({'Positive': 1, 'Negative': 0})"
   ]
  },
  {
   "cell_type": "code",
   "execution_count": 6,
   "metadata": {},
   "outputs": [],
   "source": [
    "from sklearn.model_selection import train_test_split\n",
    "\n",
    "X = df[['Polydipsia','Polyuria','Gender','Age','partial paresis','sudden weight loss','Alopecia','Irritability']]\n",
    "y = df['class']"
   ]
  },
  {
   "cell_type": "code",
   "execution_count": 7,
   "metadata": {},
   "outputs": [],
   "source": [
    "X_train, X_test, y_train, y_test = train_test_split(X, y, test_size=0.30, random_state=50)"
   ]
  },
  {
   "cell_type": "code",
   "execution_count": 8,
   "metadata": {},
   "outputs": [
    {
     "data": {
      "text/plain": [
       "RandomForestClassifier(class_weight={0: 1.5, 1: 1}, random_state=69)"
      ]
     },
     "execution_count": 8,
     "metadata": {},
     "output_type": "execute_result"
    }
   ],
   "source": [
    "from sklearn.ensemble import RandomForestClassifier\n",
    "\n",
    "# Creating Random Forest Model\n",
    "\n",
    "rf = RandomForestClassifier(n_estimators=100, random_state=69, class_weight={0:1.5,1:1})\n",
    "rf.fit(X_train, y_train)"
   ]
  },
  {
   "cell_type": "code",
   "execution_count": 9,
   "metadata": {},
   "outputs": [
    {
     "data": {
      "image/png": "[encoded data removed]",
      "text/plain": [
       "<Figure size 432x288 with 1 Axes>"
      ]
     },
     "metadata": {
      "needs_background": "light"
     },
     "output_type": "display_data"
    }
   ],
   "source": [
    "# Creating a confusion matrix\n",
    "\n",
    "from sklearn.metrics import confusion_matrix, classification_report, accuracy_score\n",
    "y_pred = rf.predict(X_test)\n",
    "cm = confusion_matrix(y_test, y_pred)\n",
    "sns.heatmap(cm, cbar=False, annot=True)\n",
    "plt.show()"
   ]
  },
  {
   "cell_type": "code",
   "execution_count": 10,
   "metadata": {},
   "outputs": [
    {
     "name": "stdout",
     "output_type": "stream",
     "text": [
      "              precision    recall  f1-score   support\n",
      "\n",
      "           0       0.95      0.94      0.95        65\n",
      "           1       0.96      0.97      0.96        91\n",
      "\n",
      "    accuracy                           0.96       156\n",
      "   macro avg       0.95      0.95      0.95       156\n",
      "weighted avg       0.96      0.96      0.96       156\n",
      "\n"
     ]
    }
   ],
   "source": [
    "# Classification Report\n",
    "\n",
    "print(classification_report(y_test, y_pred))"
   ]
  }
 ],
 "metadata": {
  "kernelspec": {
   "display_name": "Python 3",
   "language": "python",
   "name": "python3"
  },
  "language_info": {
   "codemirror_mode": {
    "name": "ipython",
    "version": 3
   },
   "file_extension": ".py",
   "mimetype": "text/x-python",
   "name": "python",
   "nbconvert_exporter": "python",
   "pygments_lexer": "ipython3",
   "version": "3.7.9"
  }
 },
 "nbformat": 4,
 "nbformat_minor": 4
}
